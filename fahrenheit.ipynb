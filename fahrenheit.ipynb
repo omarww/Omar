{
 "cells": [
  {
   "cell_type": "code",
   "execution_count": 1,
   "id": "da6a49ef",
   "metadata": {},
   "outputs": [],
   "source": [
    "\n",
    "import tkinter as tk\n",
    "\n",
    "def convert():\n",
    "    fahrenheit = float(entry.get())\n",
    "    celsius = (fahrenheit - 32) * 5/9\n",
    "    label_result.config(text=\"Temperature in Celsius: {:.2f}\".format(celsius))\n",
    "\n",
    "root = tk.Tk()\n",
    "root.title(\"Temperature Converter\")\n",
    "\n",
    "frame_input = tk.Frame(root)\n",
    "frame_input.pack()\n",
    "\n",
    "label_input = tk.Label(frame_input, text=\"Enter temperature in Fahrenheit:\")\n",
    "label_input.pack(side=tk.LEFT)\n",
    "\n",
    "entry = tk.Entry(frame_input)\n",
    "entry.pack(side=tk.LEFT)\n",
    "\n",
    "button_convert = tk.Button(root, text=\"Convert\", command=convert)\n",
    "button_convert.pack()\n",
    "\n",
    "label_result = tk.Label(root)\n",
    "label_result.pack()\n",
    "\n",
    "root.mainloop()\n",
    "\n",
    "\n"
   ]
  },
  {
   "cell_type": "code",
   "execution_count": null,
   "id": "bde6494f",
   "metadata": {},
   "outputs": [],
   "source": []
  }
 ],
 "metadata": {
  "kernelspec": {
   "display_name": "Python 3 (ipykernel)",
   "language": "python",
   "name": "python3"
  },
  "language_info": {
   "codemirror_mode": {
    "name": "ipython",
    "version": 3
   },
   "file_extension": ".py",
   "mimetype": "text/x-python",
   "name": "python",
   "nbconvert_exporter": "python",
   "pygments_lexer": "ipython3",
   "version": "3.10.9"
  }
 },
 "nbformat": 4,
 "nbformat_minor": 5
}
