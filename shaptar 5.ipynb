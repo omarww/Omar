{
 "cells": [
  {
   "cell_type": "code",
   "execution_count": 5,
   "id": "8b04dfe6",
   "metadata": {},
   "outputs": [
    {
     "name": "stdout",
     "output_type": "stream",
     "text": [
      "(1, 2, 3)\n",
      "Area: 12\n",
      "Perimeter: 14\n",
      "Area: 78.5\n",
      "Circumference: 31.400000000000002\n",
      "Is (3, 4) inside the circle? True\n",
      "Initial balance: 1000\n",
      "Balance after deposit: 1500\n",
      "Balance after withdrawal: 1300\n",
      "Insufficient funds\n"
     ]
    }
   ],
   "source": [
    "# Point3D class\n",
    "class Point3D:\n",
    "    def __init__(self, x, y, z):\n",
    "        self.x = x\n",
    "        self.y = y\n",
    "        self.z = z\n",
    "        \n",
    "    def get_coordinates(self):\n",
    "        return (self.x, self.y, self.z)\n",
    "\n",
    "my_point = Point3D(1, 2, 3)\n",
    "print(my_point.get_coordinates())\n",
    "\n",
    "# Rectangle class\n",
    "class Rectangle:\n",
    "    def __init__(self, length, width):\n",
    "        self.length = length\n",
    "        self.width = width\n",
    "        \n",
    "    def area(self):\n",
    "        return self.length * self.width\n",
    "    \n",
    "    def perimeter(self):\n",
    "        return 2 * (self.length + self.width)\n",
    "    \n",
    "my_rectangle = Rectangle(4, 3)\n",
    "print(\"Area:\", my_rectangle.area())\n",
    "print(\"Perimeter:\", my_rectangle.perimeter())\n",
    "\n",
    "# Circle class\n",
    "class Circle:\n",
    "    def __init__(self, center, radius):\n",
    "        self.center = center\n",
    "        self.radius = radius\n",
    "        \n",
    "    def area(self):\n",
    "        return 3.14 * (self.radius ** 2)\n",
    "    \n",
    "    def circumference(self):\n",
    "        return 2 * 3.14 * self.radius\n",
    "    \n",
    "    def inside(self, point):\n",
    "        x, y = point\n",
    "        if ((x - self.center[0])**2 + (y - self.center[1])**2) <= (self.radius ** 2):\n",
    "            return True\n",
    "        else:\n",
    "            return False\n",
    "        \n",
    "my_circle = Circle((0, 0), 5)\n",
    "print(\"Area:\", my_circle.area())\n",
    "print(\"Circumference:\", my_circle.circumference())\n",
    "print(\"Is (3, 4) inside the circle?\", my_circle.inside((3, 4)))\n",
    "\n",
    "# Bank class\n",
    "class Bank:\n",
    "    def __init__(self, balance=0):\n",
    "        self.balance = balance\n",
    "        \n",
    "    def deposit(self, amount):\n",
    "        self.balance += amount\n",
    "        \n",
    "    def withdraw(self, amount):\n",
    "        if self.balance >= amount:\n",
    "            self.balance -= amount\n",
    "        else:\n",
    "            print(\"Insufficient funds\")\n",
    "            \n",
    "my_bank = Bank(1000)\n",
    "print(\"Initial balance:\", my_bank.balance)\n",
    "my_bank.deposit(500)\n",
    "print(\"Balance after deposit:\", my_bank.balance)\n",
    "my_bank.withdraw(200)\n",
    "print(\"Balance after withdrawal:\", my_bank.balance)\n",
    "my_bank.withdraw(1500) # should print \"Insufficient funds\""
   ]
  },
  {
   "cell_type": "code",
   "execution_count": null,
   "id": "8957ff3a",
   "metadata": {},
   "outputs": [],
   "source": []
  },
  {
   "cell_type": "code",
   "execution_count": null,
   "id": "84c4ae2c",
   "metadata": {
    "scrolled": false
   },
   "outputs": [],
   "source": []
  },
  {
   "cell_type": "code",
   "execution_count": null,
   "id": "a78a7808",
   "metadata": {},
   "outputs": [],
   "source": []
  }
 ],
 "metadata": {
  "kernelspec": {
   "display_name": "Python 3 (ipykernel)",
   "language": "python",
   "name": "python3"
  },
  "language_info": {
   "codemirror_mode": {
    "name": "ipython",
    "version": 3
   },
   "file_extension": ".py",
   "mimetype": "text/x-python",
   "name": "python",
   "nbconvert_exporter": "python",
   "pygments_lexer": "ipython3",
   "version": "3.10.9"
  }
 },
 "nbformat": 4,
 "nbformat_minor": 5
}
