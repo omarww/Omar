{
 "cells": [
  {
   "cell_type": "code",
   "execution_count": 28,
   "id": "6136acb1",
   "metadata": {},
   "outputs": [
    {
     "name": "stdout",
     "output_type": "stream",
     "text": [
      "36\n"
     ]
    }
   ],
   "source": [
    "  # Multiply elements one by one\n",
    "def multiplyList(myList):\n",
    "\n",
    "    result = 1\n",
    "    for x in myList:\n",
    "        result = result * x\n",
    "    return result\n",
    " \n",
    " \n",
    "\n",
    "list = [2,3 , 6]\n",
    "print(multiplyList(list))\n"
   ]
  },
  {
   "cell_type": "code",
   "execution_count": 8,
   "id": "86cd376a",
   "metadata": {},
   "outputs": [
    {
     "name": "stdout",
     "output_type": "stream",
     "text": [
      "Counter({'a': 400, 'b': 400, 'd': 400, 'c': 300})\n"
     ]
    }
   ],
   "source": [
    "#dictionaries by adding values for common keys\n",
    "from collections import Counter\n",
    "d1 = {'a': 100, 'b': 200, 'c':300}\n",
    "\n",
    "d2 = {'a': 300, 'b': 200, 'd':400}\n",
    "\n",
    "Cdict = Counter(d1) + Counter(d2)\n",
    "print(Cdict)"
   ]
  },
  {
   "cell_type": "code",
   "execution_count": 19,
   "id": "8ca02365",
   "metadata": {},
   "outputs": [
    {
     "name": "stdout",
     "output_type": "stream",
     "text": [
      "[(1, 2), (2, 1), (2, 3), (2, 5), (4, 4)]\n"
     ]
    }
   ],
   "source": [
    "#sorted in last element in each tuple\n",
    "a = [(2, 5), (1, 2), (4, 4), (2, 3), (2, 1)]\n",
    "x =(sorted(a))\n",
    "print(x)"
   ]
  },
  {
   "cell_type": "code",
   "execution_count": 51,
   "id": "b2d8f895",
   "metadata": {},
   "outputs": [
    {
     "name": "stdout",
     "output_type": "stream",
     "text": [
      "python\n",
      "omar\n",
      "java\n",
      "c++\n",
      "{'waleed', 'python', 'java', 'c++'}\n"
     ]
    }
   ],
   "source": [
    "#set add and remove.\n",
    "set = {\"omar\",\"python\",\"c++\" ,\"java\"}\n",
    "for val in set:\n",
    "    print(val)\n",
    "    \n",
    "set.add(\"waleed\")\n",
    "    \n",
    "set.remove(\"omar\")\n",
    "\n",
    "print(set)"
   ]
  },
  {
   "cell_type": "code",
   "execution_count": 10,
   "id": "82cf1843",
   "metadata": {},
   "outputs": [
    {
     "name": "stdout",
     "output_type": "stream",
     "text": [
      "[('item3', '24.5'), ('item2', '15.10'), ('item1', '12.20')]\n"
     ]
    }
   ],
   "source": [
    "#sort a tuple by its float element\n",
    "list= [('item1', '12.20'), ('item2', '15.10'), ('item3', '24.5')]\n",
    "\n",
    "print( sorted(list, key=lambda x: float(x[1]), reverse=True))"
   ]
  },
  {
   "cell_type": "code",
   "execution_count": 29,
   "id": "f54d17bb",
   "metadata": {},
   "outputs": [
    {
     "name": "stdout",
     "output_type": "stream",
     "text": [
      "8\n",
      "{1: 1}\n",
      "{2: 4}\n",
      "{3: 9}\n",
      "{4: 16}\n",
      "{5: 25}\n",
      "{6: 36}\n",
      "{7: 49}\n",
      "{8: 64}\n"
     ]
    }
   ],
   "source": [
    "#Making a dictionary that contains (i,i*i) \n",
    "n=int(input())\n",
    "for i in range(1,n+1):\n",
    "    a=i*i\n",
    "    print(\"{\",i,\": \",a,\"}\",sep=\"\")"
   ]
  },
  {
   "cell_type": "code",
   "execution_count": null,
   "id": "307c3e60",
   "metadata": {},
   "outputs": [],
   "source": []
  },
  {
   "cell_type": "code",
   "execution_count": null,
   "id": "db05f194",
   "metadata": {},
   "outputs": [],
   "source": []
  },
  {
   "cell_type": "code",
   "execution_count": null,
   "id": "85f0d788",
   "metadata": {},
   "outputs": [],
   "source": []
  }
 ],
 "metadata": {
  "kernelspec": {
   "display_name": "Python 3 (ipykernel)",
   "language": "python",
   "name": "python3"
  },
  "language_info": {
   "codemirror_mode": {
    "name": "ipython",
    "version": 3
   },
   "file_extension": ".py",
   "mimetype": "text/x-python",
   "name": "python",
   "nbconvert_exporter": "python",
   "pygments_lexer": "ipython3",
   "version": "3.10.9"
  }
 },
 "nbformat": 4,
 "nbformat_minor": 5
}
