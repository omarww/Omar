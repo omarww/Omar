{
 "cells": [
  {
   "cell_type": "markdown",
   "id": "3de0cdc9",
   "metadata": {},
   "source": [
    "import "
   ]
  },
  {
   "cell_type": "code",
   "execution_count": 7,
   "id": "29d38b2c",
   "metadata": {},
   "outputs": [],
   "source": [
    "import numpy as np #import numpy"
   ]
  },
  {
   "cell_type": "code",
   "execution_count": 9,
   "id": "811cc8b8",
   "metadata": {},
   "outputs": [
    {
     "name": "stdout",
     "output_type": "stream",
     "text": [
      "What is the number of student : 1\n",
      "What is the number of subjects : 2\n",
      "Enter marks for student 1\n",
      "Enter mark for subject 1: 50\n",
      "Enter mark for subject 2: 50\n",
      "Student\tTotal Marks\tPercentage\tGrade\n",
      "1\t100.0\t\t50.0%\t\tA+\n"
     ]
    }
   ],
   "source": [
    "\n",
    "\n",
    "#input for user\n",
    "num_student = int(input(\"What is the number of student : \"))\n",
    "num_subjects = int(input(\"What is the number of subjects : \"))\n",
    "\n",
    "marks =np.zeros((num_student,num_subjects))\n",
    "\n",
    "\n",
    "for i in range(num_student):\n",
    "    print(\"Enter marks for student\", i+1)\n",
    "    for j in range(num_subjects):\n",
    "        marks[i][j] = float(input(\"Enter mark for subject \"+str(j+1)+\": \"))\n",
    "        \n",
    "total_marks = np.sum(marks ,axis=1)\n",
    "\n",
    "percentage = (total_marks / (num_subjects* 100)) * 100\n",
    "\n",
    "grade = np.where(percentage <= 90 ,'A+',np.where(percentage <= 80, 'A', np.where(percentage <= 70 ,'B+',np.where(percentage <=60,'B','F'))))\n",
    "\n",
    "print(\"Student\\tTotal Marks\\tPercentage\\tGrade\")\n",
    "for i in range(num_student):\n",
    "    print(str(i+1)+\"\\t\"+str(total_marks[i])+\"\\t\\t\"+str(percentage[i])+\"%\\t\\t\"+grade[i])\n",
    "    "
   ]
  },
  {
   "cell_type": "code",
   "execution_count": null,
   "id": "27ca7329",
   "metadata": {},
   "outputs": [],
   "source": []
  },
  {
   "cell_type": "code",
   "execution_count": null,
   "id": "e0dbcbf8",
   "metadata": {},
   "outputs": [],
   "source": [
    "\n"
   ]
  },
  {
   "cell_type": "code",
   "execution_count": null,
   "id": "0a87e1c2",
   "metadata": {},
   "outputs": [],
   "source": []
  },
  {
   "cell_type": "code",
   "execution_count": null,
   "id": "e341ae6a",
   "metadata": {},
   "outputs": [],
   "source": []
  },
  {
   "cell_type": "code",
   "execution_count": null,
   "id": "074c191e",
   "metadata": {},
   "outputs": [],
   "source": []
  },
  {
   "cell_type": "code",
   "execution_count": null,
   "id": "b704ff69",
   "metadata": {},
   "outputs": [],
   "source": []
  },
  {
   "cell_type": "code",
   "execution_count": null,
   "id": "d7bdc185",
   "metadata": {},
   "outputs": [],
   "source": []
  },
  {
   "cell_type": "code",
   "execution_count": null,
   "id": "478704bd",
   "metadata": {},
   "outputs": [],
   "source": []
  },
  {
   "cell_type": "code",
   "execution_count": null,
   "id": "fa671e45",
   "metadata": {},
   "outputs": [],
   "source": []
  },
  {
   "cell_type": "code",
   "execution_count": null,
   "id": "82a8460d",
   "metadata": {},
   "outputs": [],
   "source": []
  },
  {
   "cell_type": "code",
   "execution_count": null,
   "id": "6b84f6c7",
   "metadata": {},
   "outputs": [],
   "source": []
  },
  {
   "cell_type": "code",
   "execution_count": null,
   "id": "ac8b72aa",
   "metadata": {},
   "outputs": [],
   "source": []
  }
 ],
 "metadata": {
  "kernelspec": {
   "display_name": "Python 3 (ipykernel)",
   "language": "python",
   "name": "python3"
  },
  "language_info": {
   "codemirror_mode": {
    "name": "ipython",
    "version": 3
   },
   "file_extension": ".py",
   "mimetype": "text/x-python",
   "name": "python",
   "nbconvert_exporter": "python",
   "pygments_lexer": "ipython3",
   "version": "3.10.9"
  }
 },
 "nbformat": 4,
 "nbformat_minor": 5
}
