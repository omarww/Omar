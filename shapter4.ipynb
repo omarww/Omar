{
 "cells": [
  {
   "cell_type": "code",
   "execution_count": 30,
   "id": "2638d536",
   "metadata": {},
   "outputs": [],
   "source": [
    "def summ (a,b) :\n",
    "    \n",
    "    def div (l,c):\n",
    "        def subtrac(x,z):\n",
    "            def multi(o,w):\n",
    "                return o*w\n",
    "            return x-z\n",
    "        return l /c\n",
    "    return a + b\n",
    "\n"
   ]
  },
  {
   "cell_type": "code",
   "execution_count": 35,
   "id": "f3651360",
   "metadata": {},
   "outputs": [
    {
     "data": {
      "text/plain": [
       "0"
      ]
     },
     "execution_count": 35,
     "metadata": {},
     "output_type": "execute_result"
    }
   ],
   "source": [
    "subtrac(5,5)"
   ]
  },
  {
   "cell_type": "code",
   "execution_count": 36,
   "id": "100ef604",
   "metadata": {},
   "outputs": [
    {
     "data": {
      "text/plain": [
       "10"
      ]
     },
     "execution_count": 36,
     "metadata": {},
     "output_type": "execute_result"
    }
   ],
   "source": [
    "summ(5,5)"
   ]
  },
  {
   "cell_type": "code",
   "execution_count": 37,
   "id": "5d495fb0",
   "metadata": {},
   "outputs": [
    {
     "data": {
      "text/plain": [
       "2.0"
      ]
     },
     "execution_count": 37,
     "metadata": {},
     "output_type": "execute_result"
    }
   ],
   "source": [
    "div(8,4)"
   ]
  },
  {
   "cell_type": "code",
   "execution_count": 38,
   "id": "359f13ef",
   "metadata": {},
   "outputs": [
    {
     "data": {
      "text/plain": [
       "25"
      ]
     },
     "execution_count": 38,
     "metadata": {},
     "output_type": "execute_result"
    }
   ],
   "source": [
    "multi(5,5)"
   ]
  },
  {
   "cell_type": "code",
   "execution_count": null,
   "id": "fcdbe20b",
   "metadata": {},
   "outputs": [],
   "source": []
  }
 ],
 "metadata": {
  "kernelspec": {
   "display_name": "Python 3 (ipykernel)",
   "language": "python",
   "name": "python3"
  },
  "language_info": {
   "codemirror_mode": {
    "name": "ipython",
    "version": 3
   },
   "file_extension": ".py",
   "mimetype": "text/x-python",
   "name": "python",
   "nbconvert_exporter": "python",
   "pygments_lexer": "ipython3",
   "version": "3.10.9"
  }
 },
 "nbformat": 4,
 "nbformat_minor": 5
}
