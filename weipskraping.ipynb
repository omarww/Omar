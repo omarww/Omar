{
 "cells": [
  {
   "cell_type": "code",
   "execution_count": 2,
   "id": "6fdc6a4f",
   "metadata": {},
   "outputs": [],
   "source": [
    "\n",
    "from bs4 import BeautifulSoup\n",
    "import requests"
   ]
  },
  {
   "cell_type": "code",
   "execution_count": 3,
   "id": "e87ec50c",
   "metadata": {},
   "outputs": [],
   "source": [
    "url = \"https://www.wikipedia.org/\"\n",
    "page = requests.get(url)\n",
    "src = page.content\n",
    "soup = BeautifulSoup(src,'lxml')"
   ]
  },
  {
   "cell_type": "code",
   "execution_count": 47,
   "id": "1a4513cf",
   "metadata": {},
   "outputs": [
    {
     "name": "stdout",
     "output_type": "stream",
     "text": [
      "\n",
      "\n",
      "Afrikaans\n",
      "Polski\n",
      "العربية\n",
      "Asturianu\n",
      "Azərbaycanca\n",
      "Български\n",
      "Bân-lâm-gú / Hō-ló-oē\n",
      "বাংলা\n",
      "Беларуская\n",
      "Català\n",
      "Čeština\n",
      "Cymraeg\n",
      "Dansk\n",
      "Deutsch\n",
      "Eesti\n",
      "Ελληνικά\n",
      "English\n",
      "Español\n",
      "Esperanto\n",
      "Euskara\n",
      "فارسی\n",
      "Français\n",
      "Galego\n",
      "한국어\n",
      "हिन्दी\n",
      "Hrvatski\n",
      "Bahasa Indonesia\n",
      "Italiano\n",
      "עברית\n",
      "ქართული\n",
      "Latina\n",
      "Latviešu\n",
      "Lietuvių\n",
      "Magyar\n",
      "Македонски\n",
      "مصرى\n",
      "Bahasa Melayu\n",
      "Bahaso Minangkabau\n",
      "Nederlands\n",
      "日本語\n",
      "Norsk (bokmål)\n",
      "Norsk (nynorsk)\n",
      "Нохчийн\n",
      "Oʻzbekcha / Ўзбекча\n",
      "Português\n",
      "Қазақша / Qazaqşa / قازاقشا\n",
      "Română\n",
      "Simple English\n",
      "Sinugboanong Binisaya\n",
      "Slovenčina\n",
      "Slovenščina\n",
      "Српски / Srpski\n",
      "Srpskohrvatski / Српскохрватски\n",
      "Suomi\n",
      "Svenska\n",
      "தமிழ்\n",
      "Татарча / Tatarça\n",
      "ภาษาไทย\n",
      "Тоҷикӣ\n",
      "تۆرکجه\n",
      "Türkçe\n",
      "Українська\n",
      "اردو\n",
      "Tiếng Việt\n",
      "Winaray\n",
      "粵語\n",
      "中文\n",
      "Русский\n",
      "Հայերեն\n",
      "မြန်မာဘာသာ\n",
      "\n",
      "\n",
      "\n"
     ]
    }
   ],
   "source": [
    "w = soup.find(\"div\",{\"class\":\"hide-arrow\"}).text\n",
    "print(w)"
   ]
  },
  {
   "cell_type": "code",
   "execution_count": 48,
   "id": "f9c379fd",
   "metadata": {},
   "outputs": [
    {
     "name": "stdout",
     "output_type": "stream",
     "text": [
      "\n",
      "\n",
      "\n",
      "\n",
      "Wikipedia\n",
      "\n",
      "The Free Encyclopedia\n",
      "\n",
      "\n"
     ]
    }
   ],
   "source": [
    "titel = soup.find(\"div\",{\"class\":\"central-textlogo\"}).text\n",
    "print(titel)"
   ]
  }
 ],
 "metadata": {
  "kernelspec": {
   "display_name": "Python 3 (ipykernel)",
   "language": "python",
   "name": "python3"
  },
  "language_info": {
   "codemirror_mode": {
    "name": "ipython",
    "version": 3
   },
   "file_extension": ".py",
   "mimetype": "text/x-python",
   "name": "python",
   "nbconvert_exporter": "python",
   "pygments_lexer": "ipython3",
   "version": "3.10.9"
  }
 },
 "nbformat": 4,
 "nbformat_minor": 5
}
