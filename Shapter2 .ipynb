{
 "cells": [
  {
   "cell_type": "code",
   "execution_count": 9,
   "id": "3df4ed45",
   "metadata": {},
   "outputs": [
    {
     "name": "stdout",
     "output_type": "stream",
     "text": [
      "--------------------Welcome to the Guess the Number game--------------------\n",
      "Enter your guess : 100\n",
      "Enter your second guess : 50\n",
      "😊😊😊😊😊:Congratulations! Your first guessed the number correctly:😊😊😊😊😊\n",
      "😊😊😊😊😊:Congratulations! Your second guessed the number correctly:😊😊😊😊😊\n"
     ]
    }
   ],
   "source": [
    "print (\"-\"*20 + \"Welcome to the Guess the Number game\" + \"-\"*20)\n",
    "\n",
    "Guess1 = int(input(\"Enter your guess : \") )\n",
    "\n",
    "Guess2 = int(input(\"Enter your second guess : \" ) ) \n",
    "\n",
    "if Guess1 <= 100 :\n",
    "    print (\"😊\"*5 +\":Congratulations! Your first guessed the number correctly:\"+\"😊\"*5)\n",
    "elif Guess1>=101:\n",
    "    print(\"😔\"*5+\":sorry Your first guess is too high .guess again:\"+\"😔\"*5)\n",
    "\n",
    "if Guess2 <= 50 :\n",
    "    print(\"😊\"*5 +\":Congratulations! Your second guessed the number correctly:\"+\"😊\"*5)\n",
    "elif Guess2 >=51 :\n",
    "    print (\"😔\"*5+\":sorry Your second guess is too high. Guess again:\"+\"😔\"*5)\n",
    "else :\n",
    "    print (\"-\"*20 +\"error\" + \"-\"*20)"
   ]
  },
  {
   "cell_type": "code",
   "execution_count": 1,
   "id": "92275c97",
   "metadata": {},
   "outputs": [
    {
     "data": {
      "text/plain": [
       "True"
      ]
     },
     "execution_count": 1,
     "metadata": {},
     "output_type": "execute_result"
    }
   ],
   "source": [
    "x =55 \n",
    "bool (x)"
   ]
  },
  {
   "cell_type": "code",
   "execution_count": null,
   "id": "e32bbbf0",
   "metadata": {},
   "outputs": [],
   "source": []
  }
 ],
 "metadata": {
  "kernelspec": {
   "display_name": "Python 3 (ipykernel)",
   "language": "python",
   "name": "python3"
  },
  "language_info": {
   "codemirror_mode": {
    "name": "ipython",
    "version": 3
   },
   "file_extension": ".py",
   "mimetype": "text/x-python",
   "name": "python",
   "nbconvert_exporter": "python",
   "pygments_lexer": "ipython3",
   "version": "3.10.9"
  }
 },
 "nbformat": 4,
 "nbformat_minor": 5
}
